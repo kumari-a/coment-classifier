{
  "nbformat": 4,
  "nbformat_minor": 0,
  "metadata": {
    "colab": {
      "name": "comment classifier.ipynb",
      "provenance": [],
      "collapsed_sections": []
    },
    "kernelspec": {
      "display_name": "Python 3",
      "name": "python3"
    }
  },
  "cells": [
    {
      "cell_type": "code",
      "metadata": {
        "colab": {
          "base_uri": "https://localhost:8080/"
        },
        "id": "d1IJDK3ri_77",
        "outputId": "e2c373ad-d637-4969-f8f6-96d052350958"
      },
      "source": [
        "!pip install nltk"
      ],
      "execution_count": null,
      "outputs": [
        {
          "output_type": "stream",
          "text": [
            "Requirement already satisfied: nltk in /usr/local/lib/python3.7/dist-packages (3.2.5)\n",
            "Requirement already satisfied: six in /usr/local/lib/python3.7/dist-packages (from nltk) (1.15.0)\n"
          ],
          "name": "stdout"
        }
      ]
    },
    {
      "cell_type": "code",
      "metadata": {
        "id": "UR7SKqsaO49q",
        "colab": {
          "base_uri": "https://localhost:8080/"
        },
        "outputId": "9be9d4b7-d29e-453e-a346-ecf454332930"
      },
      "source": [
        "\n",
        "# Import relevant packages\n",
        "import matplotlib.pyplot as plt\n",
        "import nltk\n",
        "import numpy as np\n",
        "import re \n",
        "import pandas as pd\n",
        "import string\n",
        "import seaborn as sns\n",
        "\n",
        "from nltk.corpus import stopwords  # Remove useless words\n",
        "from nltk.stem.lancaster import LancasterStemmer  # Convert words to base form; aggressive\n",
        "\n",
        "# Import packages that help us to create document-term matrix\n",
        "from sklearn.feature_extraction.text import CountVectorizer, TfidfVectorizer\n",
        "\n",
        "\n",
        "nltk.download('stopwords')\n",
        "set(stopwords.words('english'))"
      ],
      "execution_count": null,
      "outputs": [
        {
          "output_type": "stream",
          "text": [
            "[nltk_data] Downloading package stopwords to /root/nltk_data...\n",
            "[nltk_data]   Unzipping corpora/stopwords.zip.\n"
          ],
          "name": "stdout"
        },
        {
          "output_type": "execute_result",
          "data": {
            "text/plain": [
              "{'a',\n",
              " 'about',\n",
              " 'above',\n",
              " 'after',\n",
              " 'again',\n",
              " 'against',\n",
              " 'ain',\n",
              " 'all',\n",
              " 'am',\n",
              " 'an',\n",
              " 'and',\n",
              " 'any',\n",
              " 'are',\n",
              " 'aren',\n",
              " \"aren't\",\n",
              " 'as',\n",
              " 'at',\n",
              " 'be',\n",
              " 'because',\n",
              " 'been',\n",
              " 'before',\n",
              " 'being',\n",
              " 'below',\n",
              " 'between',\n",
              " 'both',\n",
              " 'but',\n",
              " 'by',\n",
              " 'can',\n",
              " 'couldn',\n",
              " \"couldn't\",\n",
              " 'd',\n",
              " 'did',\n",
              " 'didn',\n",
              " \"didn't\",\n",
              " 'do',\n",
              " 'does',\n",
              " 'doesn',\n",
              " \"doesn't\",\n",
              " 'doing',\n",
              " 'don',\n",
              " \"don't\",\n",
              " 'down',\n",
              " 'during',\n",
              " 'each',\n",
              " 'few',\n",
              " 'for',\n",
              " 'from',\n",
              " 'further',\n",
              " 'had',\n",
              " 'hadn',\n",
              " \"hadn't\",\n",
              " 'has',\n",
              " 'hasn',\n",
              " \"hasn't\",\n",
              " 'have',\n",
              " 'haven',\n",
              " \"haven't\",\n",
              " 'having',\n",
              " 'he',\n",
              " 'her',\n",
              " 'here',\n",
              " 'hers',\n",
              " 'herself',\n",
              " 'him',\n",
              " 'himself',\n",
              " 'his',\n",
              " 'how',\n",
              " 'i',\n",
              " 'if',\n",
              " 'in',\n",
              " 'into',\n",
              " 'is',\n",
              " 'isn',\n",
              " \"isn't\",\n",
              " 'it',\n",
              " \"it's\",\n",
              " 'its',\n",
              " 'itself',\n",
              " 'just',\n",
              " 'll',\n",
              " 'm',\n",
              " 'ma',\n",
              " 'me',\n",
              " 'mightn',\n",
              " \"mightn't\",\n",
              " 'more',\n",
              " 'most',\n",
              " 'mustn',\n",
              " \"mustn't\",\n",
              " 'my',\n",
              " 'myself',\n",
              " 'needn',\n",
              " \"needn't\",\n",
              " 'no',\n",
              " 'nor',\n",
              " 'not',\n",
              " 'now',\n",
              " 'o',\n",
              " 'of',\n",
              " 'off',\n",
              " 'on',\n",
              " 'once',\n",
              " 'only',\n",
              " 'or',\n",
              " 'other',\n",
              " 'our',\n",
              " 'ours',\n",
              " 'ourselves',\n",
              " 'out',\n",
              " 'over',\n",
              " 'own',\n",
              " 're',\n",
              " 's',\n",
              " 'same',\n",
              " 'shan',\n",
              " \"shan't\",\n",
              " 'she',\n",
              " \"she's\",\n",
              " 'should',\n",
              " \"should've\",\n",
              " 'shouldn',\n",
              " \"shouldn't\",\n",
              " 'so',\n",
              " 'some',\n",
              " 'such',\n",
              " 't',\n",
              " 'than',\n",
              " 'that',\n",
              " \"that'll\",\n",
              " 'the',\n",
              " 'their',\n",
              " 'theirs',\n",
              " 'them',\n",
              " 'themselves',\n",
              " 'then',\n",
              " 'there',\n",
              " 'these',\n",
              " 'they',\n",
              " 'this',\n",
              " 'those',\n",
              " 'through',\n",
              " 'to',\n",
              " 'too',\n",
              " 'under',\n",
              " 'until',\n",
              " 'up',\n",
              " 've',\n",
              " 'very',\n",
              " 'was',\n",
              " 'wasn',\n",
              " \"wasn't\",\n",
              " 'we',\n",
              " 'were',\n",
              " 'weren',\n",
              " \"weren't\",\n",
              " 'what',\n",
              " 'when',\n",
              " 'where',\n",
              " 'which',\n",
              " 'while',\n",
              " 'who',\n",
              " 'whom',\n",
              " 'why',\n",
              " 'will',\n",
              " 'with',\n",
              " 'won',\n",
              " \"won't\",\n",
              " 'wouldn',\n",
              " \"wouldn't\",\n",
              " 'y',\n",
              " 'you',\n",
              " \"you'd\",\n",
              " \"you'll\",\n",
              " \"you're\",\n",
              " \"you've\",\n",
              " 'your',\n",
              " 'yours',\n",
              " 'yourself',\n",
              " 'yourselves'}"
            ]
          },
          "metadata": {
            "tags": []
          },
          "execution_count": 3
        }
      ]
    },
    {
      "cell_type": "code",
      "metadata": {
        "colab": {
          "base_uri": "https://localhost:8080/",
          "height": 204
        },
        "id": "NP4TemVkjk8d",
        "outputId": "b158613d-e69a-4358-f76e-d40a95ebb619"
      },
      "source": [
        "data = pd.read_csv('/content/drive/MyDrive/ColabNotebooks/Wiki_Toxic Comment Classification.csv')\n",
        "data.head()"
      ],
      "execution_count": null,
      "outputs": [
        {
          "output_type": "execute_result",
          "data": {
            "text/html": [
              "<div>\n",
              "<style scoped>\n",
              "    .dataframe tbody tr th:only-of-type {\n",
              "        vertical-align: middle;\n",
              "    }\n",
              "\n",
              "    .dataframe tbody tr th {\n",
              "        vertical-align: top;\n",
              "    }\n",
              "\n",
              "    .dataframe thead th {\n",
              "        text-align: right;\n",
              "    }\n",
              "</style>\n",
              "<table border=\"1\" class=\"dataframe\">\n",
              "  <thead>\n",
              "    <tr style=\"text-align: right;\">\n",
              "      <th></th>\n",
              "      <th>id</th>\n",
              "      <th>comment_text</th>\n",
              "      <th>toxic</th>\n",
              "      <th>severe_toxic</th>\n",
              "      <th>obscene</th>\n",
              "      <th>threat</th>\n",
              "      <th>insult</th>\n",
              "      <th>identity_hate</th>\n",
              "    </tr>\n",
              "  </thead>\n",
              "  <tbody>\n",
              "    <tr>\n",
              "      <th>0</th>\n",
              "      <td>0000997932d777bf</td>\n",
              "      <td>Explanation\\nWhy the edits made under my usern...</td>\n",
              "      <td>0</td>\n",
              "      <td>0</td>\n",
              "      <td>0</td>\n",
              "      <td>0</td>\n",
              "      <td>0</td>\n",
              "      <td>0</td>\n",
              "    </tr>\n",
              "    <tr>\n",
              "      <th>1</th>\n",
              "      <td>000103f0d9cfb60f</td>\n",
              "      <td>D'aww! He matches this background colour I'm s...</td>\n",
              "      <td>0</td>\n",
              "      <td>0</td>\n",
              "      <td>0</td>\n",
              "      <td>0</td>\n",
              "      <td>0</td>\n",
              "      <td>0</td>\n",
              "    </tr>\n",
              "    <tr>\n",
              "      <th>2</th>\n",
              "      <td>000113f07ec002fd</td>\n",
              "      <td>Hey man, I'm really not trying to edit war. It...</td>\n",
              "      <td>0</td>\n",
              "      <td>0</td>\n",
              "      <td>0</td>\n",
              "      <td>0</td>\n",
              "      <td>0</td>\n",
              "      <td>0</td>\n",
              "    </tr>\n",
              "    <tr>\n",
              "      <th>3</th>\n",
              "      <td>0001b41b1c6bb37e</td>\n",
              "      <td>\"\\nMore\\nI can't make any real suggestions on ...</td>\n",
              "      <td>0</td>\n",
              "      <td>0</td>\n",
              "      <td>0</td>\n",
              "      <td>0</td>\n",
              "      <td>0</td>\n",
              "      <td>0</td>\n",
              "    </tr>\n",
              "    <tr>\n",
              "      <th>4</th>\n",
              "      <td>0001d958c54c6e35</td>\n",
              "      <td>You, sir, are my hero. Any chance you remember...</td>\n",
              "      <td>0</td>\n",
              "      <td>0</td>\n",
              "      <td>0</td>\n",
              "      <td>0</td>\n",
              "      <td>0</td>\n",
              "      <td>0</td>\n",
              "    </tr>\n",
              "  </tbody>\n",
              "</table>\n",
              "</div>"
            ],
            "text/plain": [
              "                 id  ... identity_hate\n",
              "0  0000997932d777bf  ...             0\n",
              "1  000103f0d9cfb60f  ...             0\n",
              "2  000113f07ec002fd  ...             0\n",
              "3  0001b41b1c6bb37e  ...             0\n",
              "4  0001d958c54c6e35  ...             0\n",
              "\n",
              "[5 rows x 8 columns]"
            ]
          },
          "metadata": {
            "tags": []
          },
          "execution_count": 5
        }
      ]
    },
    {
      "cell_type": "code",
      "metadata": {
        "colab": {
          "base_uri": "https://localhost:8080/"
        },
        "id": "vtOZMbAcj-Xn",
        "outputId": "31b6adfc-e78f-4119-f269-08052bd9e75c"
      },
      "source": [
        "data.toxic.value_counts(normalize=True)"
      ],
      "execution_count": null,
      "outputs": [
        {
          "output_type": "execute_result",
          "data": {
            "text/plain": [
              "0    0.904156\n",
              "1    0.095844\n",
              "Name: toxic, dtype: float64"
            ]
          },
          "metadata": {
            "tags": []
          },
          "execution_count": 6
        }
      ]
    },
    {
      "cell_type": "code",
      "metadata": {
        "id": "H3vL7dxKkG-u"
      },
      "source": [
        "data_count=data.iloc[:,2:].sum()"
      ],
      "execution_count": null,
      "outputs": []
    },
    {
      "cell_type": "code",
      "metadata": {
        "colab": {
          "base_uri": "https://localhost:8080/"
        },
        "id": "DHn7jZ9LkIpc",
        "outputId": "1bf4f55f-3e3a-4b57-f08b-48549cb348da"
      },
      "source": [
        "data_count"
      ],
      "execution_count": null,
      "outputs": [
        {
          "output_type": "execute_result",
          "data": {
            "text/plain": [
              "toxic            15294\n",
              "severe_toxic      1595\n",
              "obscene           8449\n",
              "threat             478\n",
              "insult            7877\n",
              "identity_hate     1405\n",
              "dtype: int64"
            ]
          },
          "metadata": {
            "tags": []
          },
          "execution_count": 8
        }
      ]
    },
    {
      "cell_type": "code",
      "metadata": {
        "colab": {
          "base_uri": "https://localhost:8080/",
          "height": 353
        },
        "id": "dcy7WKf0kMPW",
        "outputId": "021c6424-229e-430c-9389-d86d72047124"
      },
      "source": [
        "# Plot a chart with the following size\n",
        "plt.figure(figsize=(8,4))\n",
        "\n",
        "# Plot a bar chart using the index (category values) and the count of each category. alpha = 0.8 to make the bars more translucent\n",
        "ax = sns.barplot(data_count.index, data_count.values, alpha=0.8)\n",
        "\n",
        "plt.title(\"No. of comments per class\")\n",
        "plt.ylabel('No. of Occurrences', fontsize=12)\n",
        "plt.xlabel('Type ', fontsize=12)\n",
        "\n",
        "#adding the text labels for each bar\n",
        "rects = ax.patches\n",
        "labels = data_count.values\n",
        "for rect, label in zip(rects, labels):\n",
        "    height = rect.get_height()\n",
        "    ax.text(rect.get_x() + rect.get_width()/2, height + 5, label, ha='center', va='bottom')\n",
        "\n",
        "plt.show()"
      ],
      "execution_count": null,
      "outputs": [
        {
          "output_type": "stream",
          "text": [
            "/usr/local/lib/python3.7/dist-packages/seaborn/_decorators.py:43: FutureWarning: Pass the following variables as keyword args: x, y. From version 0.12, the only valid positional argument will be `data`, and passing other arguments without an explicit keyword will result in an error or misinterpretation.\n",
            "  FutureWarning\n"
          ],
          "name": "stderr"
        },
        {
          "output_type": "display_data",
          "data": {
            "image/png": "[encoded data removed]",
            "text/plain": [
              "<Figure size 576x288 with 1 Axes>"
            ]
          },
          "metadata": {
            "tags": [],
            "needs_background": "light"
          }
        }
      ]
    },
    {
      "cell_type": "code",
      "metadata": {
        "colab": {
          "base_uri": "https://localhost:8080/"
        },
        "id": "45Znp-5bkXKe",
        "outputId": "aadfbc5f-f06f-4f40-8671-f6e41048c49a"
      },
      "source": [
        "\n",
        "num_rows = len(data)\n",
        "print(num_rows)"
      ],
      "execution_count": null,
      "outputs": [
        {
          "output_type": "stream",
          "text": [
            "159571\n"
          ],
          "name": "stdout"
        }
      ]
    },
    {
      "cell_type": "code",
      "metadata": {
        "colab": {
          "base_uri": "https://localhost:8080/",
          "height": 319
        },
        "id": "uW-PiyA2kXMJ",
        "outputId": "72062882-0034-4566-caec-e87286ac3cf8"
      },
      "source": [
        "# Create a bar graph \n",
        "sum_tox = data['toxic'].sum() / num_rows * 100\n",
        "sum_sev = data['severe_toxic'].sum() / num_rows * 100\n",
        "sum_obs = data['obscene'].sum() / num_rows * 100\n",
        "sum_thr = data['threat'].sum() / num_rows * 100\n",
        "sum_ins = data['insult'].sum() / num_rows * 100\n",
        "sum_ide = data['identity_hate'].sum() / num_rows * 100\n",
        "\n",
        "# Initiate a list of 6 values that represent the 6 x-axis values for the categories\n",
        "ind = np.arange(6)\n",
        "\n",
        "# Let the ind variable be the x-axis, whereas the % of toxicity for each category be the y-axis.\n",
        "# Sequence of % have been sorted manually. This method cannot be done if there are large numbers of categories.\n",
        "ax = plt.barh(ind, [sum_tox, sum_obs, sum_ins, sum_sev, sum_ide, sum_thr])\n",
        "plt.xlabel('Percentage (%)', size=20)\n",
        "plt.xticks(np.arange(0, 30, 5), size=20)\n",
        "plt.title('% of comments in various categories', size=22)\n",
        "plt.yticks(ind, ('Toxic', 'Obscene', 'Insult', 'Severe Toxic', 'Identity Hate', 'Threat', ), size=15)\n",
        "\n",
        "# Invert the graph so that it is in descending order.\n",
        "plt.gca().invert_yaxis()\n",
        "plt.show()"
      ],
      "execution_count": null,
      "outputs": [
        {
          "output_type": "display_data",
          "data": {
            "image/png": "[encoded data removed]",
            "text/plain": [
              "<Figure size 432x288 with 1 Axes>"
            ]
          },
          "metadata": {
            "tags": [],
            "needs_background": "light"
          }
        }
      ]
    },
    {
      "cell_type": "code",
      "metadata": {
        "colab": {
          "base_uri": "https://localhost:8080/",
          "height": 52
        },
        "id": "xhN6ghCrkXOw",
        "outputId": "7878500b-26c2-48f6-cc32-3515c6f5c24a"
      },
      "source": [
        "# Text preprocessing steps - remove numbers, capital letters, punctuation, '\\n'\n",
        "import re\n",
        "import string\n",
        "\n",
        "# remove all numbers with letters attached to them\n",
        "alphanumeric = lambda x: re.sub('\\w*\\d\\w*', ' ', x)\n",
        "\n",
        "# '[%s]' % re.escape(string.punctuation),' ' - replace punctuation with white space\n",
        "# .lower() - convert all strings to lowercase \n",
        "punc_lower = lambda x: re.sub('[%s]' % re.escape(string.punctuation), ' ', x.lower())\n",
        "\n",
        "# Remove all '\\n' in the string and replace it with a space\n",
        "remove_n = lambda x: re.sub(\"\\n\", \" \", x)\n",
        "\n",
        "# Remove all non-ascii characters \n",
        "remove_non_ascii = lambda x: re.sub(r'[^\\x00-\\x7f]',r' ', x)\n",
        "\n",
        "# Apply all the lambda functions wrote previously through .map on the comments column\n",
        "data['comment_text'] = data['comment_text'].map(alphanumeric).map(punc_lower).map(remove_n).map(remove_non_ascii)\n",
        "\n",
        "data['comment_text'][0]"
      ],
      "execution_count": null,
      "outputs": [
        {
          "output_type": "execute_result",
          "data": {
            "application/vnd.google.colaboratory.intrinsic+json": {
              "type": "string"
            },
            "text/plain": [
              "'explanation why the edits made under my username hardcore metallica fan were reverted  they weren t vandalisms  just closure on some gas after i voted at new york dolls fac  and please don t remove the template from the talk page since i m retired now        '"
            ]
          },
          "metadata": {
            "tags": []
          },
          "execution_count": 12
        }
      ]
    },
    {
      "cell_type": "code",
      "metadata": {
        "id": "SV6UVXSPkXQN"
      },
      "source": [
        "data_tox = data.loc[:,['id','comment_text','toxic']]"
      ],
      "execution_count": null,
      "outputs": []
    },
    {
      "cell_type": "code",
      "metadata": {
        "colab": {
          "base_uri": "https://localhost:8080/",
          "height": 52
        },
        "id": "fEiQ15CmkXTB",
        "outputId": "632f4029-f752-4b0e-cd59-8e384a7dcb1c"
      },
      "source": [
        "data_tox['comment_text'][0]"
      ],
      "execution_count": null,
      "outputs": [
        {
          "output_type": "execute_result",
          "data": {
            "application/vnd.google.colaboratory.intrinsic+json": {
              "type": "string"
            },
            "text/plain": [
              "'explanation why the edits made under my username hardcore metallica fan were reverted  they weren t vandalisms  just closure on some gas after i voted at new york dolls fac  and please don t remove the template from the talk page since i m retired now        '"
            ]
          },
          "metadata": {
            "tags": []
          },
          "execution_count": 14
        }
      ]
    },
    {
      "cell_type": "code",
      "metadata": {
        "colab": {
          "base_uri": "https://localhost:8080/",
          "height": 35
        },
        "id": "_MZGUxI1kXUv",
        "outputId": "58826898-e68e-455f-88e6-5b4feecc69ec"
      },
      "source": [
        "data_tox['comment_text'][1]"
      ],
      "execution_count": null,
      "outputs": [
        {
          "output_type": "execute_result",
          "data": {
            "application/vnd.google.colaboratory.intrinsic+json": {
              "type": "string"
            },
            "text/plain": [
              "'d aww  he matches this background colour i m seemingly stuck with  thanks    talk       january       utc '"
            ]
          },
          "metadata": {
            "tags": []
          },
          "execution_count": 15
        }
      ]
    },
    {
      "cell_type": "code",
      "metadata": {
        "id": "mK7d1kcbkXYy"
      },
      "source": [
        "data_sev = data.loc[:,['id','comment_text','severe_toxic']]"
      ],
      "execution_count": null,
      "outputs": []
    },
    {
      "cell_type": "code",
      "metadata": {
        "id": "6mQtVRC2lWZ8"
      },
      "source": [
        "data_obs = data.loc[:,['id','comment_text','obscene']]"
      ],
      "execution_count": null,
      "outputs": []
    },
    {
      "cell_type": "code",
      "metadata": {
        "id": "BvHTfXdzlWbh"
      },
      "source": [
        "data_thr = data.loc[:,['id','comment_text','threat']]"
      ],
      "execution_count": null,
      "outputs": []
    },
    {
      "cell_type": "code",
      "metadata": {
        "id": "as43eAE5lWeS"
      },
      "source": [
        "data_ins = data.loc[:,['id','comment_text','insult']]"
      ],
      "execution_count": null,
      "outputs": []
    },
    {
      "cell_type": "code",
      "metadata": {
        "id": "7y_hfPeAlWf9"
      },
      "source": [
        "data_ide = data.loc[:,['id','comment_text','identity_hate']]"
      ],
      "execution_count": null,
      "outputs": []
    },
    {
      "cell_type": "code",
      "metadata": {
        "id": "CnBDUYZ5lWid"
      },
      "source": [
        "import wordcloud\n",
        "from PIL import Image\n",
        "from wordcloud import WordCloud, STOPWORDS, ImageColorGenerator\n",
        "from nltk.corpus import stopwords"
      ],
      "execution_count": null,
      "outputs": []
    },
    {
      "cell_type": "code",
      "metadata": {
        "id": "kIdyoQw1lWkG"
      },
      "source": [
        "def wordcloud(df, label):\n",
        "    \n",
        "    # Print only rows where the toxic category label value is 1 (ie. the comment is toxic)\n",
        "    subset=df[df[label]==1]\n",
        "    text=subset.comment_text.values\n",
        "    wc= WordCloud(background_color=\"black\",max_words=4000)\n",
        "\n",
        "    wc.generate(\" \".join(text))\n",
        "\n",
        "    plt.figure(figsize=(20,20))\n",
        "    plt.subplot(221)\n",
        "    plt.axis(\"off\")\n",
        "    plt.title(\"Words frequented in {}\".format(label), fontsize=20)\n",
        "    plt.imshow(wc.recolor(colormap= 'gist_earth' , random_state=244), alpha=0.98)"
      ],
      "execution_count": null,
      "outputs": []
    },
    {
      "cell_type": "code",
      "metadata": {
        "colab": {
          "base_uri": "https://localhost:8080/",
          "height": 306
        },
        "id": "LUN020OulWm1",
        "outputId": "2d866cf3-7865-4273-ebea-3736021a8100"
      },
      "source": [
        "wordcloud(data_thr,'threat')"
      ],
      "execution_count": null,
      "outputs": [
        {
          "output_type": "display_data",
          "data": {
            "image/png": "[encoded data removed]",
            "text/plain": [
              "<Figure size 1440x1440 with 1 Axes>"
            ]
          },
          "metadata": {
            "tags": [],
            "needs_background": "light"
          }
        }
      ]
    },
    {
      "cell_type": "code",
      "metadata": {
        "colab": {
          "base_uri": "https://localhost:8080/",
          "height": 204
        },
        "id": "16F2DH1jlWop",
        "outputId": "1c8f19ec-768a-470c-8270-1cab4b532479"
      },
      "source": [
        "data_tox.head()"
      ],
      "execution_count": null,
      "outputs": [
        {
          "output_type": "execute_result",
          "data": {
            "text/html": [
              "<div>\n",
              "<style scoped>\n",
              "    .dataframe tbody tr th:only-of-type {\n",
              "        vertical-align: middle;\n",
              "    }\n",
              "\n",
              "    .dataframe tbody tr th {\n",
              "        vertical-align: top;\n",
              "    }\n",
              "\n",
              "    .dataframe thead th {\n",
              "        text-align: right;\n",
              "    }\n",
              "</style>\n",
              "<table border=\"1\" class=\"dataframe\">\n",
              "  <thead>\n",
              "    <tr style=\"text-align: right;\">\n",
              "      <th></th>\n",
              "      <th>id</th>\n",
              "      <th>comment_text</th>\n",
              "      <th>toxic</th>\n",
              "    </tr>\n",
              "  </thead>\n",
              "  <tbody>\n",
              "    <tr>\n",
              "      <th>0</th>\n",
              "      <td>0000997932d777bf</td>\n",
              "      <td>explanation why the edits made under my userna...</td>\n",
              "      <td>0</td>\n",
              "    </tr>\n",
              "    <tr>\n",
              "      <th>1</th>\n",
              "      <td>000103f0d9cfb60f</td>\n",
              "      <td>d aww  he matches this background colour i m s...</td>\n",
              "      <td>0</td>\n",
              "    </tr>\n",
              "    <tr>\n",
              "      <th>2</th>\n",
              "      <td>000113f07ec002fd</td>\n",
              "      <td>hey man  i m really not trying to edit war  it...</td>\n",
              "      <td>0</td>\n",
              "    </tr>\n",
              "    <tr>\n",
              "      <th>3</th>\n",
              "      <td>0001b41b1c6bb37e</td>\n",
              "      <td>more i can t make any real suggestions on im...</td>\n",
              "      <td>0</td>\n",
              "    </tr>\n",
              "    <tr>\n",
              "      <th>4</th>\n",
              "      <td>0001d958c54c6e35</td>\n",
              "      <td>you  sir  are my hero  any chance you remember...</td>\n",
              "      <td>0</td>\n",
              "    </tr>\n",
              "  </tbody>\n",
              "</table>\n",
              "</div>"
            ],
            "text/plain": [
              "                 id                                       comment_text  toxic\n",
              "0  0000997932d777bf  explanation why the edits made under my userna...      0\n",
              "1  000103f0d9cfb60f  d aww  he matches this background colour i m s...      0\n",
              "2  000113f07ec002fd  hey man  i m really not trying to edit war  it...      0\n",
              "3  0001b41b1c6bb37e    more i can t make any real suggestions on im...      0\n",
              "4  0001d958c54c6e35  you  sir  are my hero  any chance you remember...      0"
            ]
          },
          "metadata": {
            "tags": []
          },
          "execution_count": 31
        }
      ]
    },
    {
      "cell_type": "code",
      "metadata": {
        "colab": {
          "base_uri": "https://localhost:8080/"
        },
        "id": "HKXsuOhNlWrU",
        "outputId": "faab1c71-988b-47d0-e022-bceb5ec98d64"
      },
      "source": [
        "data_tox_1 = data_tox[data_tox['toxic'] == 1].iloc[0:5000,:]\n",
        "data_tox_1.shape"
      ],
      "execution_count": null,
      "outputs": [
        {
          "output_type": "execute_result",
          "data": {
            "text/plain": [
              "(5000, 3)"
            ]
          },
          "metadata": {
            "tags": []
          },
          "execution_count": 32
        }
      ]
    },
    {
      "cell_type": "code",
      "metadata": {
        "id": "ZE-sdIKMlWtG"
      },
      "source": [
        "data_tox_0 = data_tox[data_tox['toxic'] == 0].iloc[0:5000,:]"
      ],
      "execution_count": null,
      "outputs": []
    },
    {
      "cell_type": "code",
      "metadata": {
        "colab": {
          "base_uri": "https://localhost:8080/"
        },
        "id": "G5p9VpRNlWvc",
        "outputId": "272e9329-e871-4f3c-f03a-a67de09a2634"
      },
      "source": [
        "\n",
        "data_tox_done = pd.concat([data_tox_1, data_tox_0], axis=0)\n",
        "data_tox_done.shape"
      ],
      "execution_count": null,
      "outputs": [
        {
          "output_type": "execute_result",
          "data": {
            "text/plain": [
              "(10000, 3)"
            ]
          },
          "metadata": {
            "tags": []
          },
          "execution_count": 34
        }
      ]
    },
    {
      "cell_type": "code",
      "metadata": {
        "colab": {
          "base_uri": "https://localhost:8080/"
        },
        "id": "ZeZJW9CclWxo",
        "outputId": "6a385f9a-9943-412c-a69b-f07f849e9865"
      },
      "source": [
        "data_sev[data_sev['severe_toxic'] == 1].count()"
      ],
      "execution_count": null,
      "outputs": [
        {
          "output_type": "execute_result",
          "data": {
            "text/plain": [
              "id              1595\n",
              "comment_text    1595\n",
              "severe_toxic    1595\n",
              "dtype: int64"
            ]
          },
          "metadata": {
            "tags": []
          },
          "execution_count": 35
        }
      ]
    },
    {
      "cell_type": "code",
      "metadata": {
        "colab": {
          "base_uri": "https://localhost:8080/"
        },
        "id": "0hvklUlSnPE-",
        "outputId": "c4a2267b-01a1-4fbc-c1fc-a0a4594daacb"
      },
      "source": [
        "data_sev_1 = data_sev[data_sev['severe_toxic'] == 1].iloc[0:1595,:]\n",
        "data_sev_0 = data_sev[data_sev['severe_toxic'] == 0].iloc[0:1595,:]\n",
        "data_sev_done = pd.concat([data_sev_1, data_sev_0], axis=0)\n",
        "data_sev_done.shape"
      ],
      "execution_count": null,
      "outputs": [
        {
          "output_type": "execute_result",
          "data": {
            "text/plain": [
              "(3190, 3)"
            ]
          },
          "metadata": {
            "tags": []
          },
          "execution_count": 36
        }
      ]
    },
    {
      "cell_type": "code",
      "metadata": {
        "colab": {
          "base_uri": "https://localhost:8080/"
        },
        "id": "4SRGS6d-nPG2",
        "outputId": "67104c39-f69e-4eef-c416-205675d488b7"
      },
      "source": [
        "data_obs[data_obs['obscene'] == 1].count()"
      ],
      "execution_count": null,
      "outputs": [
        {
          "output_type": "execute_result",
          "data": {
            "text/plain": [
              "id              8449\n",
              "comment_text    8449\n",
              "obscene         8449\n",
              "dtype: int64"
            ]
          },
          "metadata": {
            "tags": []
          },
          "execution_count": 37
        }
      ]
    },
    {
      "cell_type": "code",
      "metadata": {
        "colab": {
          "base_uri": "https://localhost:8080/"
        },
        "id": "SsSldJBtnPJh",
        "outputId": "7ce6e8ec-4506-43e1-a594-cb234577a8cb"
      },
      "source": [
        "data_obs_1 = data_obs[data_obs['obscene'] == 1].iloc[0:5000,:]\n",
        "data_obs_0 = data_obs[data_obs['obscene'] == 0].iloc[0:5000,:]\n",
        "data_obs_done = pd.concat([data_obs_1, data_obs_0], axis=0)\n",
        "data_obs_done.shape"
      ],
      "execution_count": null,
      "outputs": [
        {
          "output_type": "execute_result",
          "data": {
            "text/plain": [
              "(10000, 3)"
            ]
          },
          "metadata": {
            "tags": []
          },
          "execution_count": 38
        }
      ]
    },
    {
      "cell_type": "code",
      "metadata": {
        "colab": {
          "base_uri": "https://localhost:8080/"
        },
        "id": "lsDeiOdYnPLJ",
        "outputId": "ebb81687-2acc-43b3-cbc1-3780fd0e6021"
      },
      "source": [
        "data_thr[data_thr['threat'] == 1].count()"
      ],
      "execution_count": null,
      "outputs": [
        {
          "output_type": "execute_result",
          "data": {
            "text/plain": [
              "id              478\n",
              "comment_text    478\n",
              "threat          478\n",
              "dtype: int64"
            ]
          },
          "metadata": {
            "tags": []
          },
          "execution_count": 39
        }
      ]
    },
    {
      "cell_type": "code",
      "metadata": {
        "colab": {
          "base_uri": "https://localhost:8080/"
        },
        "id": "VCc0sABNnPOI",
        "outputId": "fbc8741a-fdb5-44dd-c551-222c73c55b86"
      },
      "source": [
        "data_thr_1 = data_thr[data_thr['threat'] == 1].iloc[0:478,:]\n",
        "\n",
        "# We include 1912 comments that have no threat so that the data with threat (478) will represent 20% of the dataset.\n",
        "data_thr_0 = data_thr[data_thr['threat'] == 0].iloc[0:1912,:]  \n",
        "data_thr_done = pd.concat([data_thr_1, data_thr_0], axis=0)\n",
        "data_thr_done.shape"
      ],
      "execution_count": null,
      "outputs": [
        {
          "output_type": "execute_result",
          "data": {
            "text/plain": [
              "(2390, 3)"
            ]
          },
          "metadata": {
            "tags": []
          },
          "execution_count": 40
        }
      ]
    },
    {
      "cell_type": "code",
      "metadata": {
        "colab": {
          "base_uri": "https://localhost:8080/"
        },
        "id": "wRKpywpYnPPt",
        "outputId": "155e9530-39b4-4e12-bd72-a1cc72fbd1a8"
      },
      "source": [
        "\n",
        "data_ins[data_ins['insult'] == 1].count()"
      ],
      "execution_count": null,
      "outputs": [
        {
          "output_type": "execute_result",
          "data": {
            "text/plain": [
              "id              7877\n",
              "comment_text    7877\n",
              "insult          7877\n",
              "dtype: int64"
            ]
          },
          "metadata": {
            "tags": []
          },
          "execution_count": 41
        }
      ]
    },
    {
      "cell_type": "code",
      "metadata": {
        "colab": {
          "base_uri": "https://localhost:8080/"
        },
        "id": "4Rfl5LHGnPSh",
        "outputId": "b3f0d864-a195-42d6-e50a-6a350ecccf3d"
      },
      "source": [
        "data_ins_1 = data_ins[data_ins['insult'] == 1].iloc[0:5000,:]\n",
        "data_ins_0 = data_ins[data_ins['insult'] == 0].iloc[0:5000,:]\n",
        "data_ins_done = pd.concat([data_ins_1, data_ins_0], axis=0)\n",
        "data_ins_done.shape"
      ],
      "execution_count": null,
      "outputs": [
        {
          "output_type": "execute_result",
          "data": {
            "text/plain": [
              "(10000, 3)"
            ]
          },
          "metadata": {
            "tags": []
          },
          "execution_count": 42
        }
      ]
    },
    {
      "cell_type": "code",
      "metadata": {
        "colab": {
          "base_uri": "https://localhost:8080/"
        },
        "id": "gyRDQnOanPUH",
        "outputId": "f5a89d74-6826-42d9-efa7-2545cd0d2909"
      },
      "source": [
        "data_ide[data_ide['identity_hate'] == 1].count()"
      ],
      "execution_count": null,
      "outputs": [
        {
          "output_type": "execute_result",
          "data": {
            "text/plain": [
              "id               1405\n",
              "comment_text     1405\n",
              "identity_hate    1405\n",
              "dtype: int64"
            ]
          },
          "metadata": {
            "tags": []
          },
          "execution_count": 43
        }
      ]
    },
    {
      "cell_type": "code",
      "metadata": {
        "colab": {
          "base_uri": "https://localhost:8080/"
        },
        "id": "99SsA1l9nPXn",
        "outputId": "13cec92a-9dc4-4f1a-da8c-32aea578c6d7"
      },
      "source": [
        "data_ide_1 = data_ide[data_ide['identity_hate'] == 1].iloc[0:1405,:] # 20%\n",
        "data_ide_0 = data_ide[data_ide['identity_hate'] == 0].iloc[0:5620,:] # 80%\n",
        "data_ide_done = pd.concat([data_ide_1, data_ide_0], axis=0)\n",
        "data_ide_done.shape"
      ],
      "execution_count": null,
      "outputs": [
        {
          "output_type": "execute_result",
          "data": {
            "text/plain": [
              "(7025, 3)"
            ]
          },
          "metadata": {
            "tags": []
          },
          "execution_count": 44
        }
      ]
    },
    {
      "cell_type": "code",
      "metadata": {
        "id": "falpy__XnPZm"
      },
      "source": [
        "# Import packages for pre-processing\n",
        "from sklearn import preprocessing\n",
        "from sklearn.feature_selection import SelectFromModel\n",
        "\n",
        "# Import tools to split data and evaluate model performance\n",
        "from sklearn.model_selection import train_test_split, KFold, cross_val_score\n",
        "from sklearn.metrics import f1_score, precision_score, recall_score, precision_recall_curve, fbeta_score, confusion_matrix\n",
        "from sklearn.metrics import roc_auc_score, roc_curve\n",
        "\n",
        "# Import ML algos\n",
        "from sklearn.linear_model import LogisticRegression\n",
        "from sklearn.neighbors import KNeighborsClassifier\n",
        "from sklearn.naive_bayes import MultinomialNB, BernoulliNB\n",
        "from sklearn.svm import LinearSVC\n",
        "from sklearn.ensemble import RandomForestClassifier"
      ],
      "execution_count": null,
      "outputs": []
    },
    {
      "cell_type": "code",
      "metadata": {
        "id": "487Ym_KBnPc1"
      },
      "source": [
        "'''\n",
        "df_done: data_tox_done, data_sev_done, ...\n",
        "label: toxic, severe_toxic, ...\n",
        "vectorizer values: CountVectorizer, TfidfVectorizer\n",
        "gram_range values: (1,1) for unigram, (2,2) for bigram\n",
        "'''\n",
        "def cv_tf_train_test(df_done,label,vectorizer,ngram):\n",
        "\n",
        "    ''' Train/Test split'''\n",
        "    # Split the data into X and y data sets\n",
        "    X = df_done.comment_text\n",
        "    y = df_done[label]\n",
        "\n",
        "    # Split our data into training and test data \n",
        "    X_train, X_test, y_train, y_test = train_test_split(X, y, test_size=0.3, random_state=42)\n",
        "\n",
        "    ''' Count Vectorizer/TF-IDF '''\n",
        "\n",
        "    # Create a Vectorizer object and remove stopwords from the table\n",
        "    cv1 = vectorizer(ngram_range=(ngram), stop_words='english')\n",
        "    \n",
        "    X_train_cv1 = cv1.fit_transform(X_train) # Learn the vocabulary dictionary and return term-document matrix\n",
        "    X_test_cv1  = cv1.transform(X_test)      # Learn a vocabulary dictionary of all tokens in the raw documents.\n",
        "    \n",
        "    # Output a Dataframe of the CountVectorizer with unique words as the labels\n",
        "    # test = pd.DataFrame(X_train_cv1.toarray(), columns=cv1.get_feature_names())\n",
        "        \n",
        "    ''' Initialize all model objects and fit the models on the training data '''\n",
        "    lr = LogisticRegression()\n",
        "    lr.fit(X_train_cv1, y_train)\n",
        "    print('lr done')\n",
        "\n",
        "    knn = KNeighborsClassifier(n_neighbors=5)\n",
        "    knn.fit(X_train_cv1, y_train)\n",
        "\n",
        "    bnb = BernoulliNB()\n",
        "    bnb.fit(X_train_cv1, y_train)\n",
        "    print('bnb done')\n",
        "    \n",
        "    mnb = MultinomialNB()\n",
        "    mnb.fit(X_train_cv1, y_train)\n",
        "    print('mnb done')\n",
        "    \n",
        "    svm_model = LinearSVC()\n",
        "    svm_model.fit(X_train_cv1, y_train)\n",
        "\n",
        "    randomforest = RandomForestClassifier(n_estimators=100, random_state=42)\n",
        "    randomforest.fit(X_train_cv1, y_train)\n",
        "    print('rdf done')\n",
        "    \n",
        "    # Create a list of F1 score of all models \n",
        "    f1_score_data = {'F1 Score':[f1_score(lr.predict(X_test_cv1), y_test), f1_score(knn.predict(X_test_cv1), y_test), \n",
        "                                f1_score(bnb.predict(X_test_cv1), y_test), f1_score(mnb.predict(X_test_cv1), y_test),\n",
        "                                f1_score(svm_model.predict(X_test_cv1), y_test), f1_score(randomforest.predict(X_test_cv1), y_test)]} \n",
        "                          \n",
        "    # Create DataFrame with the model names as column labels\n",
        "    df_f1 = pd.DataFrame(f1_score_data, index=['Log Regression','KNN', 'BernoulliNB', 'MultinomialNB', 'SVM', 'Random Forest'])  \n",
        "\n",
        "    return df_f1"
      ],
      "execution_count": null,
      "outputs": []
    },
    {
      "cell_type": "code",
      "metadata": {
        "id": "gNSkRuLr7hmu",
        "colab": {
          "base_uri": "https://localhost:8080/",
          "height": 320
        },
        "outputId": "15c6e1be-113b-4d9f-ac1f-37d7a9154013"
      },
      "source": [
        "import time\n",
        "\n",
        "t0 = time.time()\n",
        "\n",
        "df_tox_cv = cv_tf_train_test(data_tox_done, 'toxic', TfidfVectorizer, (1,1))\n",
        "df_tox_cv.rename(columns={'F1 Score': 'F1 Score(toxic)'}, inplace=True)\n",
        "\n",
        "t1 = time.time()\n",
        "\n",
        "total = 'Time taken: {} seconds'.format(t1-t0)\n",
        "print(total)\n",
        "\n",
        "df_tox_cv"
      ],
      "execution_count": null,
      "outputs": [
        {
          "output_type": "stream",
          "text": [
            "lr done\n",
            "bnb done\n",
            "mnb done\n",
            "rdf done\n",
            "Time taken: 11.580956220626831 seconds\n"
          ],
          "name": "stdout"
        },
        {
          "output_type": "execute_result",
          "data": {
            "text/html": [
              "<div>\n",
              "<style scoped>\n",
              "    .dataframe tbody tr th:only-of-type {\n",
              "        vertical-align: middle;\n",
              "    }\n",
              "\n",
              "    .dataframe tbody tr th {\n",
              "        vertical-align: top;\n",
              "    }\n",
              "\n",
              "    .dataframe thead th {\n",
              "        text-align: right;\n",
              "    }\n",
              "</style>\n",
              "<table border=\"1\" class=\"dataframe\">\n",
              "  <thead>\n",
              "    <tr style=\"text-align: right;\">\n",
              "      <th></th>\n",
              "      <th>F1 Score(toxic)</th>\n",
              "    </tr>\n",
              "  </thead>\n",
              "  <tbody>\n",
              "    <tr>\n",
              "      <th>Log Regression</th>\n",
              "      <td>0.861234</td>\n",
              "    </tr>\n",
              "    <tr>\n",
              "      <th>KNN</th>\n",
              "      <td>0.185120</td>\n",
              "    </tr>\n",
              "    <tr>\n",
              "      <th>BernoulliNB</th>\n",
              "      <td>0.776521</td>\n",
              "    </tr>\n",
              "    <tr>\n",
              "      <th>MultinomialNB</th>\n",
              "      <td>0.874958</td>\n",
              "    </tr>\n",
              "    <tr>\n",
              "      <th>SVM</th>\n",
              "      <td>0.876133</td>\n",
              "    </tr>\n",
              "    <tr>\n",
              "      <th>Random Forest</th>\n",
              "      <td>0.838055</td>\n",
              "    </tr>\n",
              "  </tbody>\n",
              "</table>\n",
              "</div>"
            ],
            "text/plain": [
              "                F1 Score(toxic)\n",
              "Log Regression         0.861234\n",
              "KNN                    0.185120\n",
              "BernoulliNB            0.776521\n",
              "MultinomialNB          0.874958\n",
              "SVM                    0.876133\n",
              "Random Forest          0.838055"
            ]
          },
          "metadata": {
            "tags": []
          },
          "execution_count": 49
        }
      ]
    },
    {
      "cell_type": "code",
      "metadata": {
        "colab": {
          "base_uri": "https://localhost:8080/",
          "height": 320
        },
        "id": "cC82hVLIqURW",
        "outputId": "1e7d1f6d-e146-40f0-db52-b91200305ae5"
      },
      "source": [
        "t0 = time.time()\n",
        "\n",
        "df_sev_cv = cv_tf_train_test(data_sev_done, 'severe_toxic', TfidfVectorizer, (1,1))\n",
        "df_sev_cv.rename(columns={'F1 Score': 'F1 Score(severe_toxic)'}, inplace=True)\n",
        "\n",
        "t1 = time.time()\n",
        "\n",
        "total = 'Time taken: {} seconds'.format(t1-t0)\n",
        "print(total)\n",
        "df_sev_cv"
      ],
      "execution_count": null,
      "outputs": [
        {
          "output_type": "stream",
          "text": [
            "lr done\n",
            "bnb done\n",
            "mnb done\n",
            "rdf done\n",
            "Time taken: 2.0733327865600586 seconds\n"
          ],
          "name": "stdout"
        },
        {
          "output_type": "execute_result",
          "data": {
            "text/html": [
              "<div>\n",
              "<style scoped>\n",
              "    .dataframe tbody tr th:only-of-type {\n",
              "        vertical-align: middle;\n",
              "    }\n",
              "\n",
              "    .dataframe tbody tr th {\n",
              "        vertical-align: top;\n",
              "    }\n",
              "\n",
              "    .dataframe thead th {\n",
              "        text-align: right;\n",
              "    }\n",
              "</style>\n",
              "<table border=\"1\" class=\"dataframe\">\n",
              "  <thead>\n",
              "    <tr style=\"text-align: right;\">\n",
              "      <th></th>\n",
              "      <th>F1 Score(severe_toxic)</th>\n",
              "    </tr>\n",
              "  </thead>\n",
              "  <tbody>\n",
              "    <tr>\n",
              "      <th>Log Regression</th>\n",
              "      <td>0.927879</td>\n",
              "    </tr>\n",
              "    <tr>\n",
              "      <th>KNN</th>\n",
              "      <td>0.857416</td>\n",
              "    </tr>\n",
              "    <tr>\n",
              "      <th>BernoulliNB</th>\n",
              "      <td>0.803707</td>\n",
              "    </tr>\n",
              "    <tr>\n",
              "      <th>MultinomialNB</th>\n",
              "      <td>0.936170</td>\n",
              "    </tr>\n",
              "    <tr>\n",
              "      <th>SVM</th>\n",
              "      <td>0.926004</td>\n",
              "    </tr>\n",
              "    <tr>\n",
              "      <th>Random Forest</th>\n",
              "      <td>0.934874</td>\n",
              "    </tr>\n",
              "  </tbody>\n",
              "</table>\n",
              "</div>"
            ],
            "text/plain": [
              "                F1 Score(severe_toxic)\n",
              "Log Regression                0.927879\n",
              "KNN                           0.857416\n",
              "BernoulliNB                   0.803707\n",
              "MultinomialNB                 0.936170\n",
              "SVM                           0.926004\n",
              "Random Forest                 0.934874"
            ]
          },
          "metadata": {
            "tags": []
          },
          "execution_count": 50
        }
      ]
    },
    {
      "cell_type": "code",
      "metadata": {
        "colab": {
          "base_uri": "https://localhost:8080/",
          "height": 320
        },
        "id": "tgWNkKdqqdHT",
        "outputId": "e776137a-99eb-4588-9aa3-ddd381bbf4b8"
      },
      "source": [
        "t0 = time.time()\n",
        "\n",
        "df_obs_cv = cv_tf_train_test(data_obs_done, 'obscene', TfidfVectorizer, (1,1))\n",
        "df_obs_cv.rename(columns={'F1 Score': 'F1 Score(obscene)'}, inplace=True)\n",
        "\n",
        "t1 = time.time()\n",
        "\n",
        "total = 'Time taken: {} seconds'.format(t1-t0)\n",
        "print(total)\n",
        "\n",
        "df_obs_cv"
      ],
      "execution_count": null,
      "outputs": [
        {
          "output_type": "stream",
          "text": [
            "lr done\n",
            "bnb done\n",
            "mnb done\n",
            "rdf done\n",
            "Time taken: 10.714163780212402 seconds\n"
          ],
          "name": "stdout"
        },
        {
          "output_type": "execute_result",
          "data": {
            "text/html": [
              "<div>\n",
              "<style scoped>\n",
              "    .dataframe tbody tr th:only-of-type {\n",
              "        vertical-align: middle;\n",
              "    }\n",
              "\n",
              "    .dataframe tbody tr th {\n",
              "        vertical-align: top;\n",
              "    }\n",
              "\n",
              "    .dataframe thead th {\n",
              "        text-align: right;\n",
              "    }\n",
              "</style>\n",
              "<table border=\"1\" class=\"dataframe\">\n",
              "  <thead>\n",
              "    <tr style=\"text-align: right;\">\n",
              "      <th></th>\n",
              "      <th>F1 Score(obscene)</th>\n",
              "    </tr>\n",
              "  </thead>\n",
              "  <tbody>\n",
              "    <tr>\n",
              "      <th>Log Regression</th>\n",
              "      <td>0.908655</td>\n",
              "    </tr>\n",
              "    <tr>\n",
              "      <th>KNN</th>\n",
              "      <td>0.519056</td>\n",
              "    </tr>\n",
              "    <tr>\n",
              "      <th>BernoulliNB</th>\n",
              "      <td>0.787830</td>\n",
              "    </tr>\n",
              "    <tr>\n",
              "      <th>MultinomialNB</th>\n",
              "      <td>0.901463</td>\n",
              "    </tr>\n",
              "    <tr>\n",
              "      <th>SVM</th>\n",
              "      <td>0.921378</td>\n",
              "    </tr>\n",
              "    <tr>\n",
              "      <th>Random Forest</th>\n",
              "      <td>0.909091</td>\n",
              "    </tr>\n",
              "  </tbody>\n",
              "</table>\n",
              "</div>"
            ],
            "text/plain": [
              "                F1 Score(obscene)\n",
              "Log Regression           0.908655\n",
              "KNN                      0.519056\n",
              "BernoulliNB              0.787830\n",
              "MultinomialNB            0.901463\n",
              "SVM                      0.921378\n",
              "Random Forest            0.909091"
            ]
          },
          "metadata": {
            "tags": []
          },
          "execution_count": 51
        }
      ]
    },
    {
      "cell_type": "code",
      "metadata": {
        "colab": {
          "base_uri": "https://localhost:8080/",
          "height": 320
        },
        "id": "SO4IVbwNqgwu",
        "outputId": "15499970-b528-4436-9481-1e8ec63b8b3c"
      },
      "source": [
        "t0 = time.time()\n",
        "\n",
        "df_thr_cv = cv_tf_train_test(data_thr_done, 'threat', TfidfVectorizer, (1,1))\n",
        "df_thr_cv.rename(columns={'F1 Score': 'F1 Score(threat)'}, inplace=True)\n",
        "\n",
        "t1 = time.time()\n",
        "\n",
        "total = 'Time taken: {} seconds'.format(t1-t0)\n",
        "print(total)\n",
        "\n",
        "df_thr_cv"
      ],
      "execution_count": null,
      "outputs": [
        {
          "output_type": "stream",
          "text": [
            "lr done\n",
            "bnb done\n",
            "mnb done\n",
            "rdf done\n",
            "Time taken: 1.2885839939117432 seconds\n"
          ],
          "name": "stdout"
        },
        {
          "output_type": "execute_result",
          "data": {
            "text/html": [
              "<div>\n",
              "<style scoped>\n",
              "    .dataframe tbody tr th:only-of-type {\n",
              "        vertical-align: middle;\n",
              "    }\n",
              "\n",
              "    .dataframe tbody tr th {\n",
              "        vertical-align: top;\n",
              "    }\n",
              "\n",
              "    .dataframe thead th {\n",
              "        text-align: right;\n",
              "    }\n",
              "</style>\n",
              "<table border=\"1\" class=\"dataframe\">\n",
              "  <thead>\n",
              "    <tr style=\"text-align: right;\">\n",
              "      <th></th>\n",
              "      <th>F1 Score(threat)</th>\n",
              "    </tr>\n",
              "  </thead>\n",
              "  <tbody>\n",
              "    <tr>\n",
              "      <th>Log Regression</th>\n",
              "      <td>0.628821</td>\n",
              "    </tr>\n",
              "    <tr>\n",
              "      <th>KNN</th>\n",
              "      <td>0.720000</td>\n",
              "    </tr>\n",
              "    <tr>\n",
              "      <th>BernoulliNB</th>\n",
              "      <td>0.311828</td>\n",
              "    </tr>\n",
              "    <tr>\n",
              "      <th>MultinomialNB</th>\n",
              "      <td>0.504762</td>\n",
              "    </tr>\n",
              "    <tr>\n",
              "      <th>SVM</th>\n",
              "      <td>0.786765</td>\n",
              "    </tr>\n",
              "    <tr>\n",
              "      <th>Random Forest</th>\n",
              "      <td>0.795539</td>\n",
              "    </tr>\n",
              "  </tbody>\n",
              "</table>\n",
              "</div>"
            ],
            "text/plain": [
              "                F1 Score(threat)\n",
              "Log Regression          0.628821\n",
              "KNN                     0.720000\n",
              "BernoulliNB             0.311828\n",
              "MultinomialNB           0.504762\n",
              "SVM                     0.786765\n",
              "Random Forest           0.795539"
            ]
          },
          "metadata": {
            "tags": []
          },
          "execution_count": 52
        }
      ]
    },
    {
      "cell_type": "code",
      "metadata": {
        "colab": {
          "base_uri": "https://localhost:8080/",
          "height": 320
        },
        "id": "oijvhLgjqkqX",
        "outputId": "ac2eba88-9971-48cd-f3d4-c2df6c0b86ad"
      },
      "source": [
        "t0 = time.time()\n",
        "\n",
        "df_ins_cv = cv_tf_train_test(data_ins_done, 'insult', TfidfVectorizer, (1,1))\n",
        "df_ins_cv.rename(columns={'F1 Score': 'F1 Score(insult)'}, inplace=True)\n",
        "\n",
        "t1 = time.time()\n",
        "\n",
        "total = 'Time taken: {} seconds'.format(t1-t0)\n",
        "print(total)\n",
        "\n",
        "df_ins_cv"
      ],
      "execution_count": null,
      "outputs": [
        {
          "output_type": "stream",
          "text": [
            "lr done\n",
            "bnb done\n",
            "mnb done\n",
            "rdf done\n",
            "Time taken: 10.782909154891968 seconds\n"
          ],
          "name": "stdout"
        },
        {
          "output_type": "execute_result",
          "data": {
            "text/html": [
              "<div>\n",
              "<style scoped>\n",
              "    .dataframe tbody tr th:only-of-type {\n",
              "        vertical-align: middle;\n",
              "    }\n",
              "\n",
              "    .dataframe tbody tr th {\n",
              "        vertical-align: top;\n",
              "    }\n",
              "\n",
              "    .dataframe thead th {\n",
              "        text-align: right;\n",
              "    }\n",
              "</style>\n",
              "<table border=\"1\" class=\"dataframe\">\n",
              "  <thead>\n",
              "    <tr style=\"text-align: right;\">\n",
              "      <th></th>\n",
              "      <th>F1 Score(insult)</th>\n",
              "    </tr>\n",
              "  </thead>\n",
              "  <tbody>\n",
              "    <tr>\n",
              "      <th>Log Regression</th>\n",
              "      <td>0.896599</td>\n",
              "    </tr>\n",
              "    <tr>\n",
              "      <th>KNN</th>\n",
              "      <td>0.257992</td>\n",
              "    </tr>\n",
              "    <tr>\n",
              "      <th>BernoulliNB</th>\n",
              "      <td>0.783762</td>\n",
              "    </tr>\n",
              "    <tr>\n",
              "      <th>MultinomialNB</th>\n",
              "      <td>0.897411</td>\n",
              "    </tr>\n",
              "    <tr>\n",
              "      <th>SVM</th>\n",
              "      <td>0.902619</td>\n",
              "    </tr>\n",
              "    <tr>\n",
              "      <th>Random Forest</th>\n",
              "      <td>0.883993</td>\n",
              "    </tr>\n",
              "  </tbody>\n",
              "</table>\n",
              "</div>"
            ],
            "text/plain": [
              "                F1 Score(insult)\n",
              "Log Regression          0.896599\n",
              "KNN                     0.257992\n",
              "BernoulliNB             0.783762\n",
              "MultinomialNB           0.897411\n",
              "SVM                     0.902619\n",
              "Random Forest           0.883993"
            ]
          },
          "metadata": {
            "tags": []
          },
          "execution_count": 53
        }
      ]
    },
    {
      "cell_type": "code",
      "metadata": {
        "colab": {
          "base_uri": "https://localhost:8080/",
          "height": 320
        },
        "id": "wAihYegKqoQU",
        "outputId": "78a62f6a-c96f-4fa4-8c1c-bfef864204c1"
      },
      "source": [
        "t0 = time.time()\n",
        "\n",
        "df_ide_cv = cv_tf_train_test(data_ide_done, 'identity_hate', TfidfVectorizer, (1,1))\n",
        "df_ide_cv.rename(columns={'F1 Score': 'F1 Score(identity_hate)'}, inplace=True)\n",
        "\n",
        "t1 = time.time()\n",
        "\n",
        "total = 'Time taken: {} seconds'.format(t1-t0)\n",
        "print(total)\n",
        "\n",
        "df_ide_cv"
      ],
      "execution_count": null,
      "outputs": [
        {
          "output_type": "stream",
          "text": [
            "lr done\n",
            "bnb done\n",
            "mnb done\n",
            "rdf done\n",
            "Time taken: 5.808316707611084 seconds\n"
          ],
          "name": "stdout"
        },
        {
          "output_type": "execute_result",
          "data": {
            "text/html": [
              "<div>\n",
              "<style scoped>\n",
              "    .dataframe tbody tr th:only-of-type {\n",
              "        vertical-align: middle;\n",
              "    }\n",
              "\n",
              "    .dataframe tbody tr th {\n",
              "        vertical-align: top;\n",
              "    }\n",
              "\n",
              "    .dataframe thead th {\n",
              "        text-align: right;\n",
              "    }\n",
              "</style>\n",
              "<table border=\"1\" class=\"dataframe\">\n",
              "  <thead>\n",
              "    <tr style=\"text-align: right;\">\n",
              "      <th></th>\n",
              "      <th>F1 Score(identity_hate)</th>\n",
              "    </tr>\n",
              "  </thead>\n",
              "  <tbody>\n",
              "    <tr>\n",
              "      <th>Log Regression</th>\n",
              "      <td>0.699029</td>\n",
              "    </tr>\n",
              "    <tr>\n",
              "      <th>KNN</th>\n",
              "      <td>0.230159</td>\n",
              "    </tr>\n",
              "    <tr>\n",
              "      <th>BernoulliNB</th>\n",
              "      <td>0.549206</td>\n",
              "    </tr>\n",
              "    <tr>\n",
              "      <th>MultinomialNB</th>\n",
              "      <td>0.485857</td>\n",
              "    </tr>\n",
              "    <tr>\n",
              "      <th>SVM</th>\n",
              "      <td>0.797516</td>\n",
              "    </tr>\n",
              "    <tr>\n",
              "      <th>Random Forest</th>\n",
              "      <td>0.768448</td>\n",
              "    </tr>\n",
              "  </tbody>\n",
              "</table>\n",
              "</div>"
            ],
            "text/plain": [
              "                F1 Score(identity_hate)\n",
              "Log Regression                 0.699029\n",
              "KNN                            0.230159\n",
              "BernoulliNB                    0.549206\n",
              "MultinomialNB                  0.485857\n",
              "SVM                            0.797516\n",
              "Random Forest                  0.768448"
            ]
          },
          "metadata": {
            "tags": []
          },
          "execution_count": 54
        }
      ]
    },
    {
      "cell_type": "code",
      "metadata": {
        "colab": {
          "base_uri": "https://localhost:8080/",
          "height": 235
        },
        "id": "-n9C1PBdqsRo",
        "outputId": "8d58463d-f639-4a71-afd9-53d5e42a38bf"
      },
      "source": [
        "f1_all = pd.concat([df_tox_cv, df_sev_cv, df_obs_cv, df_ins_cv, df_thr_cv, df_ide_cv], axis=1)\n",
        "f1_all_trp = f1_all.transpose()\n",
        "f1_all_trp"
      ],
      "execution_count": null,
      "outputs": [
        {
          "output_type": "execute_result",
          "data": {
            "text/html": [
              "<div>\n",
              "<style scoped>\n",
              "    .dataframe tbody tr th:only-of-type {\n",
              "        vertical-align: middle;\n",
              "    }\n",
              "\n",
              "    .dataframe tbody tr th {\n",
              "        vertical-align: top;\n",
              "    }\n",
              "\n",
              "    .dataframe thead th {\n",
              "        text-align: right;\n",
              "    }\n",
              "</style>\n",
              "<table border=\"1\" class=\"dataframe\">\n",
              "  <thead>\n",
              "    <tr style=\"text-align: right;\">\n",
              "      <th></th>\n",
              "      <th>Log Regression</th>\n",
              "      <th>KNN</th>\n",
              "      <th>BernoulliNB</th>\n",
              "      <th>MultinomialNB</th>\n",
              "      <th>SVM</th>\n",
              "      <th>Random Forest</th>\n",
              "    </tr>\n",
              "  </thead>\n",
              "  <tbody>\n",
              "    <tr>\n",
              "      <th>F1 Score(toxic)</th>\n",
              "      <td>0.861234</td>\n",
              "      <td>0.185120</td>\n",
              "      <td>0.776521</td>\n",
              "      <td>0.874958</td>\n",
              "      <td>0.876133</td>\n",
              "      <td>0.838055</td>\n",
              "    </tr>\n",
              "    <tr>\n",
              "      <th>F1 Score(severe_toxic)</th>\n",
              "      <td>0.927879</td>\n",
              "      <td>0.857416</td>\n",
              "      <td>0.803707</td>\n",
              "      <td>0.936170</td>\n",
              "      <td>0.926004</td>\n",
              "      <td>0.934874</td>\n",
              "    </tr>\n",
              "    <tr>\n",
              "      <th>F1 Score(obscene)</th>\n",
              "      <td>0.908655</td>\n",
              "      <td>0.519056</td>\n",
              "      <td>0.787830</td>\n",
              "      <td>0.901463</td>\n",
              "      <td>0.921378</td>\n",
              "      <td>0.909091</td>\n",
              "    </tr>\n",
              "    <tr>\n",
              "      <th>F1 Score(insult)</th>\n",
              "      <td>0.896599</td>\n",
              "      <td>0.257992</td>\n",
              "      <td>0.783762</td>\n",
              "      <td>0.897411</td>\n",
              "      <td>0.902619</td>\n",
              "      <td>0.883993</td>\n",
              "    </tr>\n",
              "    <tr>\n",
              "      <th>F1 Score(threat)</th>\n",
              "      <td>0.628821</td>\n",
              "      <td>0.720000</td>\n",
              "      <td>0.311828</td>\n",
              "      <td>0.504762</td>\n",
              "      <td>0.786765</td>\n",
              "      <td>0.795539</td>\n",
              "    </tr>\n",
              "    <tr>\n",
              "      <th>F1 Score(identity_hate)</th>\n",
              "      <td>0.699029</td>\n",
              "      <td>0.230159</td>\n",
              "      <td>0.549206</td>\n",
              "      <td>0.485857</td>\n",
              "      <td>0.797516</td>\n",
              "      <td>0.768448</td>\n",
              "    </tr>\n",
              "  </tbody>\n",
              "</table>\n",
              "</div>"
            ],
            "text/plain": [
              "                         Log Regression       KNN  ...       SVM  Random Forest\n",
              "F1 Score(toxic)                0.861234  0.185120  ...  0.876133       0.838055\n",
              "F1 Score(severe_toxic)         0.927879  0.857416  ...  0.926004       0.934874\n",
              "F1 Score(obscene)              0.908655  0.519056  ...  0.921378       0.909091\n",
              "F1 Score(insult)               0.896599  0.257992  ...  0.902619       0.883993\n",
              "F1 Score(threat)               0.628821  0.720000  ...  0.786765       0.795539\n",
              "F1 Score(identity_hate)        0.699029  0.230159  ...  0.797516       0.768448\n",
              "\n",
              "[6 rows x 6 columns]"
            ]
          },
          "metadata": {
            "tags": []
          },
          "execution_count": 60
        }
      ]
    },
    {
      "cell_type": "code",
      "metadata": {
        "colab": {
          "base_uri": "https://localhost:8080/",
          "height": 457
        },
        "id": "JdqwXKriq0Ht",
        "outputId": "00249119-a1e1-4341-a822-cafabf6cc44c"
      },
      "source": [
        "sns.lineplot(data=f1_all_trp, markers=True)\n",
        "plt.xticks(rotation='90', fontsize=14)\n",
        "plt.yticks(fontsize=14)\n",
        "plt.legend(loc='best')\n",
        "plt.title('F1 Score of ML models (TF-IDF)', fontsize=20)"
      ],
      "execution_count": null,
      "outputs": [
        {
          "output_type": "execute_result",
          "data": {
            "text/plain": [
              "Text(0.5, 1.0, 'F1 Score of ML models (TF-IDF)')"
            ]
          },
          "metadata": {
            "tags": []
          },
          "execution_count": 58
        },
        {
          "output_type": "display_data",
          "data": {
            "image/png": "[encoded data removed]",
            "text/plain": [
              "<Figure size 432x288 with 1 Axes>"
            ]
          },
          "metadata": {
            "tags": [],
            "needs_background": "light"
          }
        }
      ]
    },
    {
      "cell_type": "code",
      "metadata": {
        "id": "9WWBMOlZq5Fc"
      },
      "source": [
        ""
      ],
      "execution_count": null,
      "outputs": []
    }
  ]
}